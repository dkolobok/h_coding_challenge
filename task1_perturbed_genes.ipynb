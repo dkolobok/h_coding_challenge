{
 "cells": [
  {
   "cell_type": "markdown",
   "id": "b388f5b6",
   "metadata": {},
   "source": [
    "# Task 1: Gene Perturbation Example\n",
    "\n",
    "This notebook demonstrates the usage of the `PerturbationWorkflow` class to perturb genes in ALS case data.\n",
    "\n",
    "## Overview\n",
    "\n",
    "The workflow performs in-silico gene perturbations on single-cell RNA-seq data:\n",
    "1. Loads ALS patient data\n",
    "2. Applies fold changes to target genes\n",
    "3. Generates embeddings using Geneformer foundation model\n",
    "4. Saves results for downstream analysis\n",
    "\n",
    "This is a demonstration with a small subset (10 cells) to validate the workflow."
   ]
  },
  {
   "cell_type": "code",
   "execution_count": null,
   "id": "10db0118",
   "metadata": {},
   "outputs": [],
   "source": [
    "# Import required libraries\n",
    "import anndata as ad\n",
    "import logging\n",
    "from perturbation_workflow import PerturbationWorkflow\n",
    "from helical.models.geneformer import Geneformer, GeneformerConfig\n",
    "\n",
    "# Configure logging to track workflow progress\n",
    "logging.basicConfig(level=logging.INFO, format='%(asctime)s - %(levelname)s - %(message)s')"
   ]
  },
  {
   "cell_type": "markdown",
   "id": "5b28cd72",
   "metadata": {},
   "source": [
    "## Step 1: Load and Filter Dataset\n",
    "\n",
    "We load the full dataset containing both ALS cases and healthy controls, then filter to only ALS cases since we want to perturb disease cells."
   ]
  },
  {
   "cell_type": "code",
   "execution_count": null,
   "id": "676d4aad",
   "metadata": {},
   "outputs": [],
   "source": [
    "# Load the full dataset with ALS cases (Condition='ALS') and healthy controls (Condition='PN')\n",
    "logging.info(\"Loading dataset...\")\n",
    "adata = ad.read_h5ad(\"data/counts_combined_filtered_BA4_sALS_PN.h5ad\")\n",
    "logging.info(f\"Dataset loaded with shape: {adata.shape} (cells × genes)\")\n",
    "\n",
    "# Select only ALS cases for perturbation analysis\n",
    "# Controls will remain unchanged and serve as reference\n",
    "adata = adata[adata.obs['Condition'] == 'ALS'].copy()\n",
    "logging.info(f\"Dataset filtered to ALS cases with shape: {adata.shape} (cells × genes)\")"
   ]
  },
  {
   "cell_type": "markdown",
   "id": "9fee4eae",
   "metadata": {},
   "source": [
    "## Step 2: Initialize the Perturbation Workflow\n",
    "\n",
    "Create a `PerturbationWorkflow` instance with the filtered ALS data."
   ]
  },
  {
   "cell_type": "code",
   "execution_count": null,
   "id": "40a8bce1",
   "metadata": {},
   "outputs": [],
   "source": [
    "# Initialize the workflow with the ALS case data\n",
    "workflow = PerturbationWorkflow(adata)"
   ]
  },
  {
   "cell_type": "markdown",
   "id": "284a146d",
   "metadata": {},
   "source": [
    "## Running batch perturbation with embedding model\n",
    "\n",
    "We'll run perturbations on a small subset of cells (top 10) to demonstrate the workflow."
   ]
  },
  {
   "cell_type": "code",
   "execution_count": null,
   "id": "33cac02b",
   "metadata": {},
   "outputs": [],
   "source": [
    "# Initialize Geneformer v2 foundation model for generating embeddings\n",
    "# This model transforms gene expression data into latent space representations\n",
    "model_config = GeneformerConfig(\n",
    "    model_name=\"gf-12L-104M-i4096\",  # 12-layer, 104M parameters, 4096 token vocabulary\n",
    "    batch_size=24,                    # Maximum batch size for 16GB GPU\n",
    "    device=\"cuda:0\"                   # Use first CUDA GPU\n",
    ")\n",
    "geneformer_v2 = Geneformer(model_config)"
   ]
  },
  {
   "cell_type": "markdown",
   "id": "ad951650",
   "metadata": {},
   "source": [
    "## Step 3: Define Perturbations\n",
    "\n",
    "We define perturbations for ALS-related genes:\n",
    "- **C9orf72**: Overexpression (fold_change=2.0) - this gene has repeat expansions in ALS\n",
    "- **SOD1**: Downregulation (fold_change=0.5) - mutations cause familial ALS\n",
    "\n",
    "Each perturbation will:\n",
    "1. Multiply gene expression by the fold change\n",
    "2. Generate embeddings using Geneformer\n",
    "3. Save embeddings to disk for analysis"
   ]
  },
  {
   "cell_type": "code",
   "execution_count": null,
   "id": "d371f6bc",
   "metadata": {},
   "outputs": [],
   "source": [
    "# Define batch perturbations as a list of dictionaries\n",
    "# Each dictionary specifies: gene_name, fold_change, model, and save path\n",
    "batch_perturbation_with_embed = [\n",
    "    {\n",
    "        \"gene_name\": \"C9orf72\",      # Gene to perturb\n",
    "        \"fold_change\": 2.0,          # 2x overexpression\n",
    "        \"helical_model\": geneformer_v2,  # Model for embeddings\n",
    "        \"save_path\": \"data/perturbed_embeddings_C9orf72.npz\"  # Output file\n",
    "    },\n",
    "    {\n",
    "        \"gene_name\": \"SOD1\",         # Gene to perturb\n",
    "        \"fold_change\": 0.5,          # 50% downregulation\n",
    "        \"helical_model\": geneformer_v2,  # Model for embeddings\n",
    "        \"save_path\": \"data/perturbed_embeddings_SOD1.npz\"  # Output file\n",
    "    }\n",
    "]"
   ]
  },
  {
   "cell_type": "markdown",
   "id": "381c0f93",
   "metadata": {},
   "source": [
    "## Step 4: Run Perturbations on Test Subset\n",
    "\n",
    "For this demonstration, we use only the first 10 cells to quickly validate the workflow."
   ]
  },
  {
   "cell_type": "code",
   "execution_count": null,
   "id": "720cc786",
   "metadata": {},
   "outputs": [],
   "source": [
    "# Select only top 10 cells to speed up the test\n",
    "# In production, you would use the full dataset\n",
    "head_adata = adata[:10, :].copy()\n",
    "\n",
    "# Re-initialize workflow with the smaller subset\n",
    "workflow = PerturbationWorkflow(head_adata)"
   ]
  },
  {
   "cell_type": "markdown",
   "id": "010382dd",
   "metadata": {},
   "source": [
    "## Step 5: Execute Batch Perturbations\n",
    "\n",
    "Run all perturbations sequentially. Each perturbation will:\n",
    "1. Copy the original data\n",
    "2. Apply the fold change to the target gene\n",
    "3. Process through Geneformer to get embeddings\n",
    "4. Save embeddings as compressed numpy arrays"
   ]
  },
  {
   "cell_type": "code",
   "execution_count": null,
   "id": "1aa69b3b",
   "metadata": {},
   "outputs": [],
   "source": [
    "# Run the batch perturbation workflow\n",
    "# Returns a list of embedding arrays (one per perturbation)\n",
    "perturb_batch_results_with_embed = workflow.perturb_batch(batch_perturbation_with_embed)\n",
    "\n",
    "# Log summary\n",
    "logging.info(f\"Batch perturbation completed. Generated {len(perturb_batch_results_with_embed)} embedding arrays.\")"
   ]
  },
  {
   "cell_type": "markdown",
   "id": "04775cce",
   "metadata": {},
   "source": [
    "## Step 6: Verify Results\n",
    "\n",
    "Display the shape of each generated embedding array to confirm successful execution."
   ]
  },
  {
   "cell_type": "code",
   "execution_count": null,
   "id": "40dd5389",
   "metadata": {},
   "outputs": [],
   "source": [
    "# Display results summary\n",
    "# Each embedding array should have shape (n_cells, embedding_dim)\n",
    "for i, result in enumerate(perturb_batch_results_with_embed):\n",
    "    perturbation = batch_perturbation_with_embed[i]\n",
    "    print(f\"Perturbation {i+1} ({perturbation['gene_name']} × {perturbation['fold_change']}): \"\n",
    "          f\"Embedding shape = {result.shape}\")"
   ]
  }
 ],
 "metadata": {
  "language_info": {
   "name": "python"
  }
 },
 "nbformat": 4,
 "nbformat_minor": 5
}
